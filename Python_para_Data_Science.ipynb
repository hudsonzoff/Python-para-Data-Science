{
  "nbformat": 4,
  "nbformat_minor": 0,
  "metadata": {
    "colab": {
      "name": "Python para Data Science.ipynb",
      "provenance": [],
      "collapsed_sections": [
        "S5RZ8Z5tZZMU",
        "NHbt96ICbvA0",
        "U3f24NJmxJbU",
        "rTVaOpvoyDVH",
        "dnXUSe521HDG",
        "FCiSeyW-1yV2",
        "0cuwMP_s3UsF",
        "mfphT4WaMZmp"
      ],
      "authorship_tag": "ABX9TyNR/jmtXQNtYnnLOneC4LGa",
      "include_colab_link": true
    },
    "kernelspec": {
      "name": "python3",
      "display_name": "Python 3"
    },
    "language_info": {
      "name": "python"
    }
  },
  "cells": [
    {
      "cell_type": "markdown",
      "metadata": {
        "id": "view-in-github",
        "colab_type": "text"
      },
      "source": [
        "<a href=\"https://colab.research.google.com/github/hudsonzoff/Python-para-Data-Science/blob/main/Python_para_Data_Science.ipynb\" target=\"_parent\"><img src=\"https://colab.research.google.com/assets/colab-badge.svg\" alt=\"Open In Colab\"/></a>"
      ]
    },
    {
      "cell_type": "markdown",
      "source": [
        "# Lógica de programação"
      ],
      "metadata": {
        "id": "zuMRCOyaPrOK"
      }
    },
    {
      "cell_type": "code",
      "source": [
        "1+1"
      ],
      "metadata": {
        "colab": {
          "base_uri": "https://localhost:8080/"
        },
        "id": "j0K9_uBjPjdX",
        "outputId": "c59af985-e056-49e7-fe1d-7c569aaab395"
      },
      "execution_count": null,
      "outputs": [
        {
          "output_type": "execute_result",
          "data": {
            "text/plain": [
              "2"
            ]
          },
          "metadata": {},
          "execution_count": 3
        }
      ]
    },
    {
      "cell_type": "code",
      "source": [
        "nome = 'Hudson'"
      ],
      "metadata": {
        "id": "SM9vxCt8PtgD"
      },
      "execution_count": null,
      "outputs": []
    },
    {
      "cell_type": "code",
      "source": [
        "nome"
      ],
      "metadata": {
        "colab": {
          "base_uri": "https://localhost:8080/",
          "height": 35
        },
        "id": "t-tg5BhWRj8H",
        "outputId": "68be61ab-2177-4b1b-df57-dff8787a9e05"
      },
      "execution_count": null,
      "outputs": [
        {
          "output_type": "execute_result",
          "data": {
            "application/vnd.google.colaboratory.intrinsic+json": {
              "type": "string"
            },
            "text/plain": [
              "'Hudson'"
            ]
          },
          "metadata": {},
          "execution_count": 5
        }
      ]
    },
    {
      "cell_type": "code",
      "source": [
        "idade = 28"
      ],
      "metadata": {
        "id": "8-8hGVOFRlBj"
      },
      "execution_count": null,
      "outputs": []
    },
    {
      "cell_type": "code",
      "source": [
        "idade"
      ],
      "metadata": {
        "colab": {
          "base_uri": "https://localhost:8080/"
        },
        "id": "YnngbiLORnd9",
        "outputId": "63517fdb-8f4e-42a2-ec23-847c8c5a9187"
      },
      "execution_count": null,
      "outputs": [
        {
          "output_type": "execute_result",
          "data": {
            "text/plain": [
              "28"
            ]
          },
          "metadata": {},
          "execution_count": 7
        }
      ]
    },
    {
      "cell_type": "code",
      "source": [
        "print(f'Meu nome é {nome} e minha idade é {idade}')"
      ],
      "metadata": {
        "colab": {
          "base_uri": "https://localhost:8080/"
        },
        "id": "riYYEnnXRpK0",
        "outputId": "037a4c4c-38bc-46f6-d9a1-f95d394c662c"
      },
      "execution_count": null,
      "outputs": [
        {
          "output_type": "stream",
          "name": "stdout",
          "text": [
            "Meu nome é Hudson e minha idade é 28\n"
          ]
        }
      ]
    },
    {
      "cell_type": "code",
      "source": [
        ""
      ],
      "metadata": {
        "id": "Zx-hqHamR8P4"
      },
      "execution_count": null,
      "outputs": []
    },
    {
      "cell_type": "code",
      "source": [
        ""
      ],
      "metadata": {
        "id": "6_mfdVhLU-85"
      },
      "execution_count": null,
      "outputs": []
    },
    {
      "cell_type": "markdown",
      "source": [
        "# Criando minha primeira funcao"
      ],
      "metadata": {
        "id": "93uibpWZTAlh"
      }
    },
    {
      "cell_type": "code",
      "source": [
        "def saudacao():\n",
        "  nome = input('Qual é seu nome?')\n",
        "  print(f'Olá {nome}')\n",
        "  "
      ],
      "metadata": {
        "id": "iYvzJX7ETDby"
      },
      "execution_count": null,
      "outputs": []
    },
    {
      "cell_type": "code",
      "source": [
        "saudacao ()"
      ],
      "metadata": {
        "colab": {
          "base_uri": "https://localhost:8080/"
        },
        "id": "e9pmGKH1T9iF",
        "outputId": "731f6389-0040-48b6-e111-bcced0faea29"
      },
      "execution_count": null,
      "outputs": [
        {
          "output_type": "stream",
          "name": "stdout",
          "text": [
            "Qual é seu nome?Hudson\n",
            "Olá Hudson\n"
          ]
        }
      ]
    },
    {
      "cell_type": "markdown",
      "source": [
        "# Outro exemplo de função\n",
        "\n",
        "\n"
      ],
      "metadata": {
        "id": "MJaFC0b6VKcK"
      }
    },
    {
      "cell_type": "code",
      "source": [
        "def nome_completo():\n",
        "  primeiro_nome = input ('Qua é seu nome?')\n",
        "  sobrenome = input('Qual é seu sobrenome?')\n",
        "  nome_inteiro = primeiro_nome + '' + sobrenome\n",
        "  print = (nome_inteiro)"
      ],
      "metadata": {
        "id": "0_0rhCYRVPaz"
      },
      "execution_count": null,
      "outputs": []
    },
    {
      "cell_type": "code",
      "source": [
        "nome_completo()"
      ],
      "metadata": {
        "colab": {
          "base_uri": "https://localhost:8080/"
        },
        "id": "eNVvG4CCWqnA",
        "outputId": "854cd240-f926-4c3a-f978-b3f0472b3e15"
      },
      "execution_count": null,
      "outputs": [
        {
          "name": "stdout",
          "output_type": "stream",
          "text": [
            "Qua é seu nome?Rafael\n",
            "Qual é seu sobrenome?Andrade\n"
          ]
        }
      ]
    },
    {
      "cell_type": "code",
      "source": [
        "nome_completo()"
      ],
      "metadata": {
        "colab": {
          "base_uri": "https://localhost:8080/"
        },
        "id": "jjE6ew_4YeDx",
        "outputId": "5a549196-55c5-49b6-dc32-f9f495c50264"
      },
      "execution_count": null,
      "outputs": [
        {
          "name": "stdout",
          "output_type": "stream",
          "text": [
            "Qua é seu nome?Rafael\n",
            "Qual é seu sobrenome?Andrade\n"
          ]
        }
      ]
    },
    {
      "cell_type": "markdown",
      "source": [
        "# Parâmetros"
      ],
      "metadata": {
        "id": "S5RZ8Z5tZZMU"
      }
    },
    {
      "cell_type": "code",
      "source": [
        "nome = 'Hudson'"
      ],
      "metadata": {
        "id": "1CeLbvqAZd_S"
      },
      "execution_count": null,
      "outputs": []
    },
    {
      "cell_type": "code",
      "source": [
        "def funcao_com_parametros(nome_da_pessoa):\n",
        "  print(f'Olá {nome_da_pessoa}')"
      ],
      "metadata": {
        "id": "BxQRf4huZhhp"
      },
      "execution_count": null,
      "outputs": []
    },
    {
      "cell_type": "code",
      "source": [
        "funcao_com_parametros(nome)"
      ],
      "metadata": {
        "colab": {
          "base_uri": "https://localhost:8080/"
        },
        "id": "UfSX8AYpZyA5",
        "outputId": "de42f3b0-12b0-4887-a1e9-f396e419473b"
      },
      "execution_count": null,
      "outputs": [
        {
          "output_type": "stream",
          "name": "stdout",
          "text": [
            "Olá Hudson\n"
          ]
        }
      ]
    },
    {
      "cell_type": "code",
      "source": [
        ""
      ],
      "metadata": {
        "id": "KWKt2mmEaVN-"
      },
      "execution_count": null,
      "outputs": []
    },
    {
      "cell_type": "markdown",
      "source": [
        "# Condicional"
      ],
      "metadata": {
        "id": "NHbt96ICbvA0"
      }
    },
    {
      "cell_type": "code",
      "source": [
        "idade = 10"
      ],
      "metadata": {
        "id": "jeVPNbMcdqYc"
      },
      "execution_count": null,
      "outputs": []
    },
    {
      "cell_type": "code",
      "source": [
        "def verifica_se_pode_dirigir_com_parametros(idade):\n",
        "  if idade >= 18:\n",
        "    print('Pode dirigir')\n",
        "  else:  \n",
        "    print('Não pode dirigir')"
      ],
      "metadata": {
        "id": "sLyEgSzmb17_"
      },
      "execution_count": null,
      "outputs": []
    },
    {
      "cell_type": "code",
      "source": [
        "verifica_se_pode_dirigir_com_parametros(idade)"
      ],
      "metadata": {
        "colab": {
          "base_uri": "https://localhost:8080/"
        },
        "id": "I-9NAaLTcyd8",
        "outputId": "f990d6bd-d045-459d-8360-393e5224096b"
      },
      "execution_count": null,
      "outputs": [
        {
          "output_type": "stream",
          "name": "stdout",
          "text": [
            "Não pode dirigir\n"
          ]
        }
      ]
    },
    {
      "cell_type": "markdown",
      "source": [
        "# Convertendo tipo para inteiro"
      ],
      "metadata": {
        "id": "U3f24NJmxJbU"
      }
    },
    {
      "cell_type": "code",
      "source": [
        "def verifica_se_pode_dirigir_sem_parametros():\n",
        "  idade = input('Qual é sua idade?')\n",
        "  idade = int(idade)\n",
        "  if idade >= 18:\n",
        "    print('Pode dirigir')\n",
        "  else:  \n",
        "    print('Não pode dirigir')"
      ],
      "metadata": {
        "id": "1hlM9L4Ec-UW"
      },
      "execution_count": null,
      "outputs": []
    },
    {
      "cell_type": "code",
      "source": [
        "verifica_se_pode_dirigir_sem_parametros()"
      ],
      "metadata": {
        "colab": {
          "base_uri": "https://localhost:8080/"
        },
        "id": "WIwo8ygTgPu8",
        "outputId": "db607837-357f-4998-d9dc-68817dce17a8"
      },
      "execution_count": null,
      "outputs": [
        {
          "output_type": "stream",
          "name": "stdout",
          "text": [
            "Qual é sua idade?10\n",
            "Não pode dirigir\n"
          ]
        }
      ]
    },
    {
      "cell_type": "code",
      "source": [
        ""
      ],
      "metadata": {
        "id": "_5gnUnulwuFJ"
      },
      "execution_count": null,
      "outputs": []
    },
    {
      "cell_type": "markdown",
      "source": [
        "# Lista"
      ],
      "metadata": {
        "id": "rTVaOpvoyDVH"
      }
    },
    {
      "cell_type": "code",
      "source": [
        "idade = 20"
      ],
      "metadata": {
        "id": "PZnV5V7UyGLo"
      },
      "execution_count": null,
      "outputs": []
    },
    {
      "cell_type": "code",
      "source": [
        "idade"
      ],
      "metadata": {
        "colab": {
          "base_uri": "https://localhost:8080/"
        },
        "id": "tMslWFoyyIJY",
        "outputId": "7e873634-42ae-4bf6-e5f1-288fb30dd247"
      },
      "execution_count": null,
      "outputs": [
        {
          "output_type": "execute_result",
          "data": {
            "text/plain": [
              "20"
            ]
          },
          "metadata": {},
          "execution_count": 56
        }
      ]
    },
    {
      "cell_type": "code",
      "source": [
        "type(idade)"
      ],
      "metadata": {
        "colab": {
          "base_uri": "https://localhost:8080/"
        },
        "id": "xK7ejz8hyI9z",
        "outputId": "d1a3a153-bb49-4d76-dd54-3f9c3e211b63"
      },
      "execution_count": null,
      "outputs": [
        {
          "output_type": "execute_result",
          "data": {
            "text/plain": [
              "int"
            ]
          },
          "metadata": {},
          "execution_count": 58
        }
      ]
    },
    {
      "cell_type": "code",
      "source": [
        "nome ='Hudson'"
      ],
      "metadata": {
        "id": "gA-ULqy6yM9S"
      },
      "execution_count": null,
      "outputs": []
    },
    {
      "cell_type": "code",
      "source": [
        "type(nome)"
      ],
      "metadata": {
        "colab": {
          "base_uri": "https://localhost:8080/"
        },
        "id": "mUZat3BZyhTx",
        "outputId": "616c34ac-54ad-4b95-88bb-9448fb36af97"
      },
      "execution_count": null,
      "outputs": [
        {
          "output_type": "execute_result",
          "data": {
            "text/plain": [
              "str"
            ]
          },
          "metadata": {},
          "execution_count": 60
        }
      ]
    },
    {
      "cell_type": "code",
      "source": [
        "idades ={22,15,34}\n",
        "type(idades)"
      ],
      "metadata": {
        "colab": {
          "base_uri": "https://localhost:8080/"
        },
        "id": "gVSSwe9NyiuF",
        "outputId": "a37b0536-6fc1-491e-e5fc-cfc3e7fcedc5"
      },
      "execution_count": null,
      "outputs": [
        {
          "output_type": "execute_result",
          "data": {
            "text/plain": [
              "set"
            ]
          },
          "metadata": {},
          "execution_count": 65
        }
      ]
    },
    {
      "cell_type": "code",
      "source": [
        "idades = [22,15,43,68]"
      ],
      "metadata": {
        "id": "tYNvcblOyor9"
      },
      "execution_count": null,
      "outputs": []
    },
    {
      "cell_type": "code",
      "source": [
        "type(idades)"
      ],
      "metadata": {
        "colab": {
          "base_uri": "https://localhost:8080/"
        },
        "id": "TY4uwGMpyviU",
        "outputId": "28426f53-533d-4915-92af-951ad679b24a"
      },
      "execution_count": null,
      "outputs": [
        {
          "output_type": "execute_result",
          "data": {
            "text/plain": [
              "list"
            ]
          },
          "metadata": {},
          "execution_count": 67
        }
      ]
    },
    {
      "cell_type": "code",
      "source": [
        "idades[2]"
      ],
      "metadata": {
        "colab": {
          "base_uri": "https://localhost:8080/"
        },
        "id": "nDtXD-GUzEpW",
        "outputId": "dbba3918-65b4-45d2-ef05-91f37a98bff4"
      },
      "execution_count": null,
      "outputs": [
        {
          "output_type": "execute_result",
          "data": {
            "text/plain": [
              "43"
            ]
          },
          "metadata": {},
          "execution_count": 68
        }
      ]
    },
    {
      "cell_type": "code",
      "source": [
        "idades[1:]"
      ],
      "metadata": {
        "colab": {
          "base_uri": "https://localhost:8080/"
        },
        "id": "5D6J2Op9zKP6",
        "outputId": "15e3197f-3d3a-4f6f-e8d4-fa766b1159f8"
      },
      "execution_count": null,
      "outputs": [
        {
          "output_type": "execute_result",
          "data": {
            "text/plain": [
              "[15, 43, 68]"
            ]
          },
          "metadata": {},
          "execution_count": 69
        }
      ]
    },
    {
      "cell_type": "code",
      "source": [
        ""
      ],
      "metadata": {
        "id": "CLYPdLZJzqJt"
      },
      "execution_count": null,
      "outputs": []
    },
    {
      "cell_type": "markdown",
      "source": [
        "# Laços e Loops"
      ],
      "metadata": {
        "id": "dnXUSe521HDG"
      }
    },
    {
      "cell_type": "code",
      "source": [
        "def verifica_se_pode_dirigir(idades):\n",
        "  for idade in idades:\n",
        "    if idade >= 18:\n",
        "      print(f'{idade} anos, Tem permissão')\n",
        "    else:\n",
        "      print(f'{idade} anos, Não tem permissão')"
      ],
      "metadata": {
        "id": "JjijFOre1MEj"
      },
      "execution_count": null,
      "outputs": []
    },
    {
      "cell_type": "code",
      "source": [
        "verifica_se_pode_dirigir(idades)"
      ],
      "metadata": {
        "colab": {
          "base_uri": "https://localhost:8080/"
        },
        "id": "kwUzMyde1P86",
        "outputId": "0efc0eeb-43cd-49f2-fb55-5d7b5769414f"
      },
      "execution_count": null,
      "outputs": [
        {
          "output_type": "stream",
          "name": "stdout",
          "text": [
            "22 anos, Tem permissão\n",
            "15 anos, Não tem permissão\n",
            "43 anos, Tem permissão\n",
            "68 anos, Tem permissão\n"
          ]
        }
      ]
    },
    {
      "cell_type": "code",
      "source": [
        ""
      ],
      "metadata": {
        "id": "XQBrTkyr1UK-"
      },
      "execution_count": null,
      "outputs": []
    },
    {
      "cell_type": "markdown",
      "source": [
        "# Booleano"
      ],
      "metadata": {
        "id": "FCiSeyW-1yV2"
      }
    },
    {
      "cell_type": "code",
      "source": [
        "permissoes =[]\n",
        "idades =[15,34,62]"
      ],
      "metadata": {
        "id": "WJX1Mvdw12IO"
      },
      "execution_count": null,
      "outputs": []
    },
    {
      "cell_type": "code",
      "source": [
        "def verifica_se_pode_dirigir(idades, permissoes):\n",
        "    for idade in idades:\n",
        "      if idade >= 18:\n",
        "          permissoes.append(True)\n",
        "      else:\n",
        "          permissoes.append(False)"
      ],
      "metadata": {
        "id": "XQ8KzjhL2Af-"
      },
      "execution_count": null,
      "outputs": []
    },
    {
      "cell_type": "code",
      "source": [
        "verifica_se_pode_dirigir(idades, permissoes)"
      ],
      "metadata": {
        "id": "AJgR3LI_2Bx6"
      },
      "execution_count": null,
      "outputs": []
    },
    {
      "cell_type": "code",
      "source": [
        "permissoes"
      ],
      "metadata": {
        "colab": {
          "base_uri": "https://localhost:8080/"
        },
        "id": "qGCVq2K62Kqf",
        "outputId": "b50788c6-9e55-4bfc-8eb3-840574b60e0d"
      },
      "execution_count": null,
      "outputs": [
        {
          "output_type": "execute_result",
          "data": {
            "text/plain": [
              "[False, True, True]"
            ]
          },
          "metadata": {},
          "execution_count": 75
        }
      ]
    },
    {
      "cell_type": "code",
      "source": [
        ""
      ],
      "metadata": {
        "id": "9KVvnV252Q-G"
      },
      "execution_count": null,
      "outputs": []
    },
    {
      "cell_type": "markdown",
      "source": [
        "# Tipos em uma lista"
      ],
      "metadata": {
        "id": "0cuwMP_s3UsF"
      }
    },
    {
      "cell_type": "code",
      "source": [
        "lista = ['Luis', 32, False, 12]\n",
        "\n",
        "for elemento in lista: \n",
        "  print(f'O elemento {elemento} é do tipo: ', type(elemento))"
      ],
      "metadata": {
        "colab": {
          "base_uri": "https://localhost:8080/"
        },
        "id": "30GhXSs03WRQ",
        "outputId": "a5e551f8-ff55-4108-ea75-282a9cdbbcbc"
      },
      "execution_count": null,
      "outputs": [
        {
          "output_type": "stream",
          "name": "stdout",
          "text": [
            "O elemento Luis é do tipo:  <class 'str'>\n",
            "O elemento 32 é do tipo:  <class 'int'>\n",
            "O elemento False é do tipo:  <class 'bool'>\n",
            "O elemento 12 é do tipo:  <class 'int'>\n"
          ]
        }
      ]
    },
    {
      "cell_type": "markdown",
      "source": [
        "# Import"
      ],
      "metadata": {
        "id": "mfphT4WaMZmp"
      }
    },
    {
      "cell_type": "code",
      "source": [
        "from random import randrange"
      ],
      "metadata": {
        "id": "OvXwWDpR3hod"
      },
      "execution_count": null,
      "outputs": []
    },
    {
      "cell_type": "code",
      "source": [
        "randrange(0,11)"
      ],
      "metadata": {
        "colab": {
          "base_uri": "https://localhost:8080/"
        },
        "id": "p3qouqEvMxjb",
        "outputId": "551a4f99-3fc9-45cf-fe69-57cb9c4221d6"
      },
      "execution_count": null,
      "outputs": [
        {
          "output_type": "execute_result",
          "data": {
            "text/plain": [
              "1"
            ]
          },
          "metadata": {},
          "execution_count": 4
        }
      ]
    },
    {
      "cell_type": "code",
      "source": [
        "notas_matematica = []\n",
        "for notas in range (4):\n",
        "  notas_matematica.append(randrange(0,11))\n",
        "\n",
        "notas_matematica"
      ],
      "metadata": {
        "colab": {
          "base_uri": "https://localhost:8080/"
        },
        "id": "ZGB4GKgGNBEz",
        "outputId": "f733c472-3748-4b60-b84a-13d3f9de40f1"
      },
      "execution_count": null,
      "outputs": [
        {
          "output_type": "execute_result",
          "data": {
            "text/plain": [
              "[8, 10, 5, 8]"
            ]
          },
          "metadata": {},
          "execution_count": 8
        }
      ]
    },
    {
      "cell_type": "code",
      "source": [
        "len(notas_matematica)"
      ],
      "metadata": {
        "colab": {
          "base_uri": "https://localhost:8080/"
        },
        "id": "31WkB2bHN-Zv",
        "outputId": "235491a4-954b-427a-8d53-b67a94fe0f2e"
      },
      "execution_count": null,
      "outputs": [
        {
          "output_type": "execute_result",
          "data": {
            "text/plain": [
              "4"
            ]
          },
          "metadata": {},
          "execution_count": 9
        }
      ]
    },
    {
      "cell_type": "code",
      "source": [
        ""
      ],
      "metadata": {
        "id": "xXbq-SQ5OLzu"
      },
      "execution_count": null,
      "outputs": []
    },
    {
      "cell_type": "markdown",
      "source": [
        "# Matplotlib"
      ],
      "metadata": {
        "id": "Uq8O6SubPja5"
      }
    },
    {
      "cell_type": "code",
      "source": [
        "import matplotlib.pyplot as plt\n"
      ],
      "metadata": {
        "id": "6OY6r7AzPlEc"
      },
      "execution_count": null,
      "outputs": []
    },
    {
      "cell_type": "code",
      "source": [
        "x = list(range(1,5))\n",
        "y = notas_matematica\n",
        "plt.plot(x, y, marker= 'o')\n",
        "plt.title('Notas')\n",
        "plt.xlabel('provas')\n",
        "plt.ylabel('notas')\n",
        "plt.show()"
      ],
      "metadata": {
        "colab": {
          "base_uri": "https://localhost:8080/",
          "height": 295
        },
        "id": "YZsHB37fQNk0",
        "outputId": "6ea1febf-5897-43aa-a9d4-8a30aa8ce32e"
      },
      "execution_count": null,
      "outputs": [
        {
          "output_type": "display_data",
          "data": {
            "image/png": "[encoded data removed]",
            "text/plain": [
              "<Figure size 432x288 with 1 Axes>"
            ]
          },
          "metadata": {
            "needs_background": "light"
          }
        }
      ]
    },
    {
      "cell_type": "code",
      "source": [
        ""
      ],
      "metadata": {
        "id": "znTlZfPoXt6b"
      },
      "execution_count": null,
      "outputs": []
    },
    {
      "cell_type": "code",
      "source": [
        ""
      ],
      "metadata": {
        "id": "wgl6o88QQQHb"
      },
      "execution_count": null,
      "outputs": []
    }
  ]
}